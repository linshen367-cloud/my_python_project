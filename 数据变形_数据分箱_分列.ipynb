{
 "cells": [
  {
   "cell_type": "code",
   "execution_count": 4,
   "id": "c908964d-686c-47c5-9a1d-3f5dcff26fb4",
   "metadata": {},
   "outputs": [
    {
     "data": {
      "text/html": [
       "<div>\n",
       "<style scoped>\n",
       "    .dataframe tbody tr th:only-of-type {\n",
       "        vertical-align: middle;\n",
       "    }\n",
       "\n",
       "    .dataframe tbody tr th {\n",
       "        vertical-align: top;\n",
       "    }\n",
       "\n",
       "    .dataframe thead th {\n",
       "        text-align: right;\n",
       "    }\n",
       "</style>\n",
       "<table border=\"1\" class=\"dataframe\">\n",
       "  <thead>\n",
       "    <tr style=\"text-align: right;\">\n",
       "      <th></th>\n",
       "      <th>0</th>\n",
       "      <th>1</th>\n",
       "      <th>2</th>\n",
       "      <th>3</th>\n",
       "      <th>4</th>\n",
       "    </tr>\n",
       "  </thead>\n",
       "  <tbody>\n",
       "    <tr>\n",
       "      <th>姓名</th>\n",
       "      <td>张三</td>\n",
       "      <td>李四</td>\n",
       "      <td>王五</td>\n",
       "      <td>赵六</td>\n",
       "      <td>钱七</td>\n",
       "    </tr>\n",
       "    <tr>\n",
       "      <th>数学</th>\n",
       "      <td>85</td>\n",
       "      <td>56</td>\n",
       "      <td>87</td>\n",
       "      <td>98</td>\n",
       "      <td>57</td>\n",
       "    </tr>\n",
       "    <tr>\n",
       "      <th>英语</th>\n",
       "      <td>54</td>\n",
       "      <td>67</td>\n",
       "      <td>54</td>\n",
       "      <td>87</td>\n",
       "      <td>89</td>\n",
       "    </tr>\n",
       "    <tr>\n",
       "      <th>物理</th>\n",
       "      <td>33</td>\n",
       "      <td>56</td>\n",
       "      <td>83</td>\n",
       "      <td>74</td>\n",
       "      <td>97</td>\n",
       "    </tr>\n",
       "  </tbody>\n",
       "</table>\n",
       "</div>"
      ],
      "text/plain": [
       "     0   1   2   3   4\n",
       "姓名  张三  李四  王五  赵六  钱七\n",
       "数学  85  56  87  98  57\n",
       "英语  54  67  54  87  89\n",
       "物理  33  56  83  74  97"
      ]
     },
     "execution_count": 4,
     "metadata": {},
     "output_type": "execute_result"
    }
   ],
   "source": [
    "import pandas as pd\n",
    "import numpy as np\n",
    "##pandas 数据变形 \n",
    "date ={\n",
    "'姓名':[\"张三\",\"李四\",\"王五\",\"赵六\",\"钱七\"],\n",
    "'数学':[85,56,87,98,57],\n",
    "'英语':[54,67,54,87,89],\n",
    "'物理':[33,56,83,74,97]\n",
    "}\n",
    "df = pd.DataFrame(date)\n",
    "\n",
    "df.T#行列转置"
   ]
  },
  {
   "cell_type": "code",
   "execution_count": 12,
   "id": "7a0b0d7f-397b-4a90-9bfe-aaf200bc3faa",
   "metadata": {},
   "outputs": [
    {
     "name": "stdout",
     "output_type": "stream",
     "text": [
      "    姓名  科目  分数\n",
      "0   张三  数学  85\n",
      "1   李四  数学  56\n",
      "2   王五  数学  87\n",
      "3   赵六  数学  98\n",
      "4   钱七  数学  57\n",
      "5   张三  英语  54\n",
      "6   李四  英语  67\n",
      "7   王五  英语  54\n",
      "8   赵六  英语  87\n",
      "9   钱七  英语  89\n",
      "10  张三  物理  33\n",
      "11  李四  物理  56\n",
      "12  王五  物理  83\n",
      "13  赵六  物理  74\n",
      "14  钱七  物理  97\n"
     ]
    }
   ],
   "source": [
    "##宽表转换成长表\n",
    "df2 = pd.melt(df,id_vars=[\"姓名\"],var_name = '科目',value_name= \"分数\")\n",
    "print(df2)"
   ]
  },
  {
   "cell_type": "code",
   "execution_count": 32,
   "id": "3b7d89d3-f242-4108-95e0-c66b0f572f68",
   "metadata": {},
   "outputs": [
    {
     "ename": "ValueError",
     "evalue": "Index contains duplicate entries, cannot reshape",
     "output_type": "error",
     "traceback": [
      "\u001b[31m---------------------------------------------------------------------------\u001b[39m",
      "\u001b[31mValueError\u001b[39m                                Traceback (most recent call last)",
      "\u001b[36mCell\u001b[39m\u001b[36m \u001b[39m\u001b[32mIn[32]\u001b[39m\u001b[32m, line 2\u001b[39m\n\u001b[32m      1\u001b[39m df2.sort_values(\u001b[33m\"\u001b[39m\u001b[33m姓名\u001b[39m\u001b[33m\"\u001b[39m)\n\u001b[32m----> \u001b[39m\u001b[32m2\u001b[39m \u001b[43mpd\u001b[49m\u001b[43m.\u001b[49m\u001b[43mpivot\u001b[49m\u001b[43m(\u001b[49m\u001b[43mdf2\u001b[49m\u001b[43m,\u001b[49m\u001b[43mindex\u001b[49m\u001b[43m \u001b[49m\u001b[43m=\u001b[49m\u001b[43m \u001b[49m\u001b[43m[\u001b[49m\u001b[33;43m\"\u001b[39;49m\u001b[33;43m姓名\u001b[39;49m\u001b[33;43m\"\u001b[39;49m\u001b[43m]\u001b[49m\u001b[43m,\u001b[49m\u001b[43mcolumns\u001b[49m\u001b[43m \u001b[49m\u001b[43m=\u001b[49m\u001b[43m \u001b[49m\u001b[33;43m'\u001b[39;49m\u001b[33;43m分数\u001b[39;49m\u001b[33;43m'\u001b[39;49m\u001b[43m,\u001b[49m\u001b[43mvalues\u001b[49m\u001b[43m \u001b[49m\u001b[43m=\u001b[49m\u001b[33;43m'\u001b[39;49m\u001b[33;43m科目\u001b[39;49m\u001b[33;43m'\u001b[39;49m\u001b[43m)\u001b[49m\n",
      "\u001b[36mFile \u001b[39m\u001b[32m~/my_python_project/venv/lib/python3.13/site-packages/pandas/core/reshape/pivot.py:570\u001b[39m, in \u001b[36mpivot\u001b[39m\u001b[34m(data, columns, index, values)\u001b[39m\n\u001b[32m    566\u001b[39m         indexed = data._constructor_sliced(data[values]._values, index=multiindex)\n\u001b[32m    567\u001b[39m \u001b[38;5;66;03m# error: Argument 1 to \"unstack\" of \"DataFrame\" has incompatible type \"Union\u001b[39;00m\n\u001b[32m    568\u001b[39m \u001b[38;5;66;03m# [List[Any], ExtensionArray, ndarray[Any, Any], Index, Series]\"; expected\u001b[39;00m\n\u001b[32m    569\u001b[39m \u001b[38;5;66;03m# \"Hashable\"\u001b[39;00m\n\u001b[32m--> \u001b[39m\u001b[32m570\u001b[39m result = \u001b[43mindexed\u001b[49m\u001b[43m.\u001b[49m\u001b[43munstack\u001b[49m\u001b[43m(\u001b[49m\u001b[43mcolumns_listlike\u001b[49m\u001b[43m)\u001b[49m  \u001b[38;5;66;03m# type: ignore[arg-type]\u001b[39;00m\n\u001b[32m    571\u001b[39m result.index.names = [\n\u001b[32m    572\u001b[39m     name \u001b[38;5;28;01mif\u001b[39;00m name \u001b[38;5;129;01mis\u001b[39;00m \u001b[38;5;129;01mnot\u001b[39;00m lib.no_default \u001b[38;5;28;01melse\u001b[39;00m \u001b[38;5;28;01mNone\u001b[39;00m \u001b[38;5;28;01mfor\u001b[39;00m name \u001b[38;5;129;01min\u001b[39;00m result.index.names\n\u001b[32m    573\u001b[39m ]\n\u001b[32m    575\u001b[39m \u001b[38;5;28;01mreturn\u001b[39;00m result\n",
      "\u001b[36mFile \u001b[39m\u001b[32m~/my_python_project/venv/lib/python3.13/site-packages/pandas/core/series.py:4634\u001b[39m, in \u001b[36mSeries.unstack\u001b[39m\u001b[34m(self, level, fill_value, sort)\u001b[39m\n\u001b[32m   4589\u001b[39m \u001b[38;5;250m\u001b[39m\u001b[33;03m\"\"\"\u001b[39;00m\n\u001b[32m   4590\u001b[39m \u001b[33;03mUnstack, also known as pivot, Series with MultiIndex to produce DataFrame.\u001b[39;00m\n\u001b[32m   4591\u001b[39m \n\u001b[32m   (...)\u001b[39m\u001b[32m   4630\u001b[39m \u001b[33;03mb    2    4\u001b[39;00m\n\u001b[32m   4631\u001b[39m \u001b[33;03m\"\"\"\u001b[39;00m\n\u001b[32m   4632\u001b[39m \u001b[38;5;28;01mfrom\u001b[39;00m\u001b[38;5;250m \u001b[39m\u001b[34;01mpandas\u001b[39;00m\u001b[34;01m.\u001b[39;00m\u001b[34;01mcore\u001b[39;00m\u001b[34;01m.\u001b[39;00m\u001b[34;01mreshape\u001b[39;00m\u001b[34;01m.\u001b[39;00m\u001b[34;01mreshape\u001b[39;00m\u001b[38;5;250m \u001b[39m\u001b[38;5;28;01mimport\u001b[39;00m unstack\n\u001b[32m-> \u001b[39m\u001b[32m4634\u001b[39m \u001b[38;5;28;01mreturn\u001b[39;00m \u001b[43munstack\u001b[49m\u001b[43m(\u001b[49m\u001b[38;5;28;43mself\u001b[39;49m\u001b[43m,\u001b[49m\u001b[43m \u001b[49m\u001b[43mlevel\u001b[49m\u001b[43m,\u001b[49m\u001b[43m \u001b[49m\u001b[43mfill_value\u001b[49m\u001b[43m,\u001b[49m\u001b[43m \u001b[49m\u001b[43msort\u001b[49m\u001b[43m)\u001b[49m\n",
      "\u001b[36mFile \u001b[39m\u001b[32m~/my_python_project/venv/lib/python3.13/site-packages/pandas/core/reshape/reshape.py:517\u001b[39m, in \u001b[36munstack\u001b[39m\u001b[34m(obj, level, fill_value, sort)\u001b[39m\n\u001b[32m    515\u001b[39m \u001b[38;5;28;01mif\u001b[39;00m is_1d_only_ea_dtype(obj.dtype):\n\u001b[32m    516\u001b[39m     \u001b[38;5;28;01mreturn\u001b[39;00m _unstack_extension_series(obj, level, fill_value, sort=sort)\n\u001b[32m--> \u001b[39m\u001b[32m517\u001b[39m unstacker = \u001b[43m_Unstacker\u001b[49m\u001b[43m(\u001b[49m\n\u001b[32m    518\u001b[39m \u001b[43m    \u001b[49m\u001b[43mobj\u001b[49m\u001b[43m.\u001b[49m\u001b[43mindex\u001b[49m\u001b[43m,\u001b[49m\u001b[43m \u001b[49m\u001b[43mlevel\u001b[49m\u001b[43m=\u001b[49m\u001b[43mlevel\u001b[49m\u001b[43m,\u001b[49m\u001b[43m \u001b[49m\u001b[43mconstructor\u001b[49m\u001b[43m=\u001b[49m\u001b[43mobj\u001b[49m\u001b[43m.\u001b[49m\u001b[43m_constructor_expanddim\u001b[49m\u001b[43m,\u001b[49m\u001b[43m \u001b[49m\u001b[43msort\u001b[49m\u001b[43m=\u001b[49m\u001b[43msort\u001b[49m\n\u001b[32m    519\u001b[39m \u001b[43m\u001b[49m\u001b[43m)\u001b[49m\n\u001b[32m    520\u001b[39m \u001b[38;5;28;01mreturn\u001b[39;00m unstacker.get_result(\n\u001b[32m    521\u001b[39m     obj._values, value_columns=\u001b[38;5;28;01mNone\u001b[39;00m, fill_value=fill_value\n\u001b[32m    522\u001b[39m )\n",
      "\u001b[36mFile \u001b[39m\u001b[32m~/my_python_project/venv/lib/python3.13/site-packages/pandas/core/reshape/reshape.py:154\u001b[39m, in \u001b[36m_Unstacker.__init__\u001b[39m\u001b[34m(self, index, level, constructor, sort)\u001b[39m\n\u001b[32m    146\u001b[39m \u001b[38;5;28;01mif\u001b[39;00m num_cells > np.iinfo(np.int32).max:\n\u001b[32m    147\u001b[39m     warnings.warn(\n\u001b[32m    148\u001b[39m         \u001b[33mf\u001b[39m\u001b[33m\"\u001b[39m\u001b[33mThe following operation may generate \u001b[39m\u001b[38;5;132;01m{\u001b[39;00mnum_cells\u001b[38;5;132;01m}\u001b[39;00m\u001b[33m cells \u001b[39m\u001b[33m\"\u001b[39m\n\u001b[32m    149\u001b[39m         \u001b[33mf\u001b[39m\u001b[33m\"\u001b[39m\u001b[33min the resulting pandas object.\u001b[39m\u001b[33m\"\u001b[39m,\n\u001b[32m    150\u001b[39m         PerformanceWarning,\n\u001b[32m    151\u001b[39m         stacklevel=find_stack_level(),\n\u001b[32m    152\u001b[39m     )\n\u001b[32m--> \u001b[39m\u001b[32m154\u001b[39m \u001b[38;5;28;43mself\u001b[39;49m\u001b[43m.\u001b[49m\u001b[43m_make_selectors\u001b[49m\u001b[43m(\u001b[49m\u001b[43m)\u001b[49m\n",
      "\u001b[36mFile \u001b[39m\u001b[32m~/my_python_project/venv/lib/python3.13/site-packages/pandas/core/reshape/reshape.py:210\u001b[39m, in \u001b[36m_Unstacker._make_selectors\u001b[39m\u001b[34m(self)\u001b[39m\n\u001b[32m    207\u001b[39m mask.put(selector, \u001b[38;5;28;01mTrue\u001b[39;00m)\n\u001b[32m    209\u001b[39m \u001b[38;5;28;01mif\u001b[39;00m mask.sum() < \u001b[38;5;28mlen\u001b[39m(\u001b[38;5;28mself\u001b[39m.index):\n\u001b[32m--> \u001b[39m\u001b[32m210\u001b[39m     \u001b[38;5;28;01mraise\u001b[39;00m \u001b[38;5;167;01mValueError\u001b[39;00m(\u001b[33m\"\u001b[39m\u001b[33mIndex contains duplicate entries, cannot reshape\u001b[39m\u001b[33m\"\u001b[39m)\n\u001b[32m    212\u001b[39m \u001b[38;5;28mself\u001b[39m.group_index = comp_index\n\u001b[32m    213\u001b[39m \u001b[38;5;28mself\u001b[39m.mask = mask\n",
      "\u001b[31mValueError\u001b[39m: Index contains duplicate entries, cannot reshape"
     ]
    }
   ],
   "source": [
    "df2.sort_values(\"姓名\")\n",
    "pd.pivot(df2,index = [\"姓名\"],columns = '分数',values ='科目')"
   ]
  },
  {
   "cell_type": "code",
   "execution_count": 33,
   "id": "19f76f42-3a93-4742-8bef-491ea5d618db",
   "metadata": {},
   "outputs": [
    {
     "data": {
      "text/html": [
       "<div>\n",
       "<style scoped>\n",
       "    .dataframe tbody tr th:only-of-type {\n",
       "        vertical-align: middle;\n",
       "    }\n",
       "\n",
       "    .dataframe tbody tr th {\n",
       "        vertical-align: top;\n",
       "    }\n",
       "\n",
       "    .dataframe thead th {\n",
       "        text-align: right;\n",
       "    }\n",
       "</style>\n",
       "<table border=\"1\" class=\"dataframe\">\n",
       "  <thead>\n",
       "    <tr style=\"text-align: right;\">\n",
       "      <th>科目</th>\n",
       "      <th>数学</th>\n",
       "      <th>物理</th>\n",
       "      <th>英语</th>\n",
       "    </tr>\n",
       "    <tr>\n",
       "      <th>姓名</th>\n",
       "      <th></th>\n",
       "      <th></th>\n",
       "      <th></th>\n",
       "    </tr>\n",
       "  </thead>\n",
       "  <tbody>\n",
       "    <tr>\n",
       "      <th>张三</th>\n",
       "      <td>85</td>\n",
       "      <td>33</td>\n",
       "      <td>54</td>\n",
       "    </tr>\n",
       "    <tr>\n",
       "      <th>李四</th>\n",
       "      <td>56</td>\n",
       "      <td>56</td>\n",
       "      <td>67</td>\n",
       "    </tr>\n",
       "    <tr>\n",
       "      <th>王五</th>\n",
       "      <td>87</td>\n",
       "      <td>83</td>\n",
       "      <td>54</td>\n",
       "    </tr>\n",
       "    <tr>\n",
       "      <th>赵六</th>\n",
       "      <td>98</td>\n",
       "      <td>74</td>\n",
       "      <td>87</td>\n",
       "    </tr>\n",
       "    <tr>\n",
       "      <th>钱七</th>\n",
       "      <td>57</td>\n",
       "      <td>97</td>\n",
       "      <td>89</td>\n",
       "    </tr>\n",
       "  </tbody>\n",
       "</table>\n",
       "</div>"
      ],
      "text/plain": [
       "科目  数学  物理  英语\n",
       "姓名            \n",
       "张三  85  33  54\n",
       "李四  56  56  67\n",
       "王五  87  83  54\n",
       "赵六  98  74  87\n",
       "钱七  57  97  89"
      ]
     },
     "execution_count": 33,
     "metadata": {},
     "output_type": "execute_result"
    }
   ],
   "source": [
    "df2.sort_values(\"姓名\")\n",
    "pd.pivot(df2,index = [\"姓名\"],columns = '科目',values ='分数')"
   ]
  },
  {
   "cell_type": "code",
   "execution_count": 28,
   "id": "894fe7f3-a825-4c1a-bfb9-ac9cf2bbd8f7",
   "metadata": {},
   "outputs": [
    {
     "name": "stdout",
     "output_type": "stream",
     "text": [
      "       姓名  数学  英语  物理 first  last\n",
      "0  张三 qwe  85  54  33     张三  qwe\n",
      "1  李四 qwe  56  67  56     李四  qwe\n",
      "2  王五 qwe  87  54  83     王五  qwe\n",
      "3  赵六 qwe  98  87  74     赵六  qwe\n",
      "4  钱七 qwe  57  89  97     钱七  qwe\n"
     ]
    }
   ],
   "source": [
    "##分列\n",
    "date ={\n",
    "'姓名':[\"张三 qwe\",\"李四 qwe\",\"王五 qwe\",\"赵六 qwe\",\"钱七 qwe\"],\n",
    "'数学':[85,56,87,98,57],\n",
    "'英语':[54,67,54,87,89],\n",
    "'物理':[33,56,83,74,97]\n",
    "}\n",
    "df = pd.DataFrame(date)\n",
    "df[['first ','last']]= df[\"姓名\"].str.split(' ',expand = True)\n",
    "print(df)"
   ]
  },
  {
   "cell_type": "code",
   "execution_count": 30,
   "id": "7757d22a-14ed-4c46-996d-9f5f605d17eb",
   "metadata": {},
   "outputs": [
    {
     "name": "stdout",
     "output_type": "stream",
     "text": [
      "--- 等宽分箱 ---\n",
      "    age age_bin_width\n",
      "0     5            Q1\n",
      "1    15            Q1\n",
      "2    22            Q1\n",
      "3    38            Q2\n",
      "4    45            Q2\n",
      "5    66            Q3\n",
      "6    78            Q4\n",
      "7     8            Q1\n",
      "8    42            Q2\n",
      "9    95            Q4\n",
      "10   25            Q1\n",
      "11   33            Q2\n",
      "\n",
      "--- 等频分箱 ---\n",
      "    age age_bin_width age_bin_freq\n",
      "0     5            Q1          25%\n",
      "1    15            Q1          25%\n",
      "2    22            Q1          50%\n",
      "3    38            Q2          75%\n",
      "4    45            Q2          75%\n",
      "5    66            Q3         100%\n",
      "6    78            Q4         100%\n",
      "7     8            Q1          25%\n",
      "8    42            Q2          75%\n",
      "9    95            Q4         100%\n",
      "10   25            Q1          50%\n",
      "11   33            Q2          50%\n",
      "\n",
      "--- 自定义分箱 ---\n",
      "    age age_bin_width age_bin_freq age_group\n",
      "0     5            Q1          25%        儿童\n",
      "1    15            Q1          25%       青少年\n",
      "2    22            Q1          50%        青年\n",
      "3    38            Q2          75%        青年\n",
      "4    45            Q2          75%        青年\n",
      "5    66            Q3         100%        老年\n",
      "6    78            Q4         100%        老年\n",
      "7     8            Q1          25%        儿童\n",
      "8    42            Q2          75%        青年\n",
      "9    95            Q4         100%        老年\n",
      "10   25            Q1          50%        青年\n",
      "11   33            Q2          50%        青年\n"
     ]
    }
   ],
   "source": [
    "##数据分箱 pd,cut(x,bins,labels)\n",
    "import pandas as pd\n",
    "import numpy as np\n",
    "\n",
    "# 创建一个包含年龄数据的 DataFrame\n",
    "data = {'age': [5, 15, 22, 38, 45, 66, 78, 8, 42, 95, 25, 33]}\n",
    "df = pd.DataFrame(data)\n",
    "\n",
    "# 将年龄数据分成4个等宽的箱子，等宽分箱\n",
    "df['age_bin_width'] = pd.cut(df['age'], bins=4, labels=['Q1', 'Q2', 'Q3', 'Q4'])\n",
    "print(\"--- 等宽分箱 ---\")\n",
    "print(df)\n",
    "\n",
    "\n",
    "# 将年龄数据分成4个数据量相等的箱子，等频分箱\n",
    "df['age_bin_freq'] = pd.qcut(df['age'], q=4, labels=['25%', '50%', '75%', '100%'])\n",
    "print(\"\\n--- 等频分箱 ---\")\n",
    "print(df)\n",
    "\n",
    "# 根据我们的业务理解来定义年龄段\n",
    "bins = [0, 12, 18, 45, 65, 100]##【0-12），【12-18），，，，\n",
    "labels = ['儿童', '青少年', '青年', '中年', '老年']\n",
    "\n",
    "df['age_group'] = pd.cut(df['age'], bins=bins, labels=labels, right=True)\n",
    "# right=True 表示区间的右边界是包含的，例如 (0, 12]\n",
    "\n",
    "print(\"\\n--- 自定义分箱 ---\")\n",
    "print(df)"
   ]
  },
  {
   "cell_type": "code",
   "execution_count": null,
   "id": "2d1d614e-58d3-475b-9210-76528b2dfad9",
   "metadata": {},
   "outputs": [],
   "source": []
  }
 ],
 "metadata": {
  "kernelspec": {
   "display_name": "Python 3 (ipykernel)",
   "language": "python",
   "name": "python3"
  },
  "language_info": {
   "codemirror_mode": {
    "name": "ipython",
    "version": 3
   },
   "file_extension": ".py",
   "mimetype": "text/x-python",
   "name": "python",
   "nbconvert_exporter": "python",
   "pygments_lexer": "ipython3",
   "version": "3.13.5"
  }
 },
 "nbformat": 4,
 "nbformat_minor": 5
}
