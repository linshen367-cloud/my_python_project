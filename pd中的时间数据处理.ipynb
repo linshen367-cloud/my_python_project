{
 "cells": [
  {
   "cell_type": "code",
   "execution_count": 3,
   "id": "5b292a01-66f6-464e-aa47-7cb2a02c37a9",
   "metadata": {},
   "outputs": [
    {
     "name": "stdout",
     "output_type": "stream",
     "text": [
      "DatetimeIndex(['2025-10-09', '2025-10-10', '2025-10-11', '2025-10-12'], dtype='datetime64[ns]', freq=None)\n",
      "DatetimeIndex(['2025-10-09', '2025-10-10', '2025-10-11', '2025-10-12'], dtype='datetime64[ns]', freq=None)\n"
     ]
    }
   ],
   "source": [
    "##pandas时间数据处理\n",
    "import pandas as pd\n",
    "\n",
    "date_strings = ['2025-10-09', '10/10/2025', 'Oct 11, 2025', '2025.10.12']\n",
    "\n",
    "# 直接使用 format='mixed' 参数\n",
    "# 这会告诉 Pandas 放弃寻找统一格式，直接进入逐个解析的模式\n",
    "time_series = pd.to_datetime(date_strings, format='mixed')\n",
    "\n",
    "print(time_series)\n",
    "\n",
    "##相同效果，因为date_string中含有多种时间数据类型，因此报错了\n",
    "import pandas as pd\n",
    "\n",
    "date_strings = ['2025-10-09', '10/10/2025', 'Oct 11, 2025', '2025.10.12']\n",
    "\n",
    "# 对列表中的每一个日期字符串单独调用 pd.to_datetime\n",
    "# 然后将结果重新组合成一个 DatetimeIndex\n",
    "time_series = pd.to_datetime([pd.to_datetime(d) for d in date_strings])\n",
    "\n",
    "print(time_series)"
   ]
  },
  {
   "cell_type": "code",
   "execution_count": 4,
   "id": "c0db49b8-9415-471b-8107-3ecbc89cb838",
   "metadata": {},
   "outputs": [
    {
     "name": "stdout",
     "output_type": "stream",
     "text": [
      "DatetimeIndex(['2025-10-09', '2025-10-15', '2025-11-20'], dtype='datetime64[ns]', freq=None)\n"
     ]
    }
   ],
   "source": [
    "#format的使用：\n",
    "import pandas as pd\n",
    "\n",
    "dates_str = ['09/10/2025', '15/10/2025', '20/11/2025']\n",
    "\n",
    "# 直接转换可能会被误解为 \"月/日/年\"\n",
    "# pd.to_datetime(dates_str) -> [2025-09-10, 2025-10-15, ...] 错误！\n",
    "\n",
    "# 使用 format 参数明确指定格式\n",
    "# %d 匹配 '09', '/' 匹配 '/', %m 匹配 '10', %Y 匹配 '2025'\n",
    "date_times = pd.to_datetime(dates_str, format='%d/%m/%Y')\n",
    "\n",
    "print(date_times)"
   ]
  },
  {
   "cell_type": "code",
   "execution_count": 22,
   "id": "0c7b1ff5-019a-4784-824c-11c0cfe296f7",
   "metadata": {},
   "outputs": [
    {
     "name": "stdout",
     "output_type": "stream",
     "text": [
      "            sales\n",
      "date             \n",
      "2025-10-01    200\n",
      "2025-10-02    220\n",
      "2025-10-03    250\n",
      "2025-10-04    230\n",
      "\n",
      "索引类型: <class 'pandas.core.indexes.datetimes.DatetimeIndex'>\n"
     ]
    }
   ],
   "source": [
    "##将时间设为索引：要解锁 Pandas 的时间序列分析能力，最关键的一步就是将时间列设置成 DataFrame 的索引\n",
    "# 创建一个示例 DataFrame\n",
    "df = pd.DataFrame({\n",
    "    'date_str': ['2025-10-01', '2025-10-02', '2025-10-03', '2025-10-04'],\n",
    "    'sales': [200, 220, 250, 230]\n",
    "})\n",
    "\n",
    "# 1. 将字符串列转换为 datetime 类型\n",
    "df['date'] = pd.to_datetime(df['date_str'])\n",
    "\n",
    "# 2. 将 'date' 列设为索引\n",
    "df = df.set_index('date')\n",
    "\n",
    "# 3. (可选) 删除原来的字符串列\n",
    "df = df.drop('date_str', axis=1)\n",
    "\n",
    "print(df)\n",
    "print(\"\\n索引类型:\", type(df.index))"
   ]
  },
  {
   "cell_type": "code",
   "execution_count": 23,
   "id": "0efd90af-226e-44d8-8ea9-ed624084bf70",
   "metadata": {},
   "outputs": [
    {
     "name": "stdout",
     "output_type": "stream",
     "text": [
      "DatetimeIndex(['2025-10-01', '2025-10-02', '2025-10-03', '2025-10-04',\n",
      "               '2025-10-05', '2025-10-06', '2025-10-07'],\n",
      "              dtype='datetime64[ns]', freq='D')\n"
     ]
    }
   ],
   "source": [
    "##pd.date_range()：生成时间序列\n",
    "# 创建从2025年10月1日开始，连续7天的日期\n",
    "date_index = pd.date_range(start='2025-10-01', periods=7, freq='D')\n",
    "print(date_index)"
   ]
  },
  {
   "cell_type": "code",
   "execution_count": 25,
   "id": "d406d10f-0046-4057-87f5-15e73bd5c63c",
   "metadata": {},
   "outputs": [
    {
     "name": "stdout",
     "output_type": "stream",
     "text": [
      "sales    220\n",
      "Name: 2025-10-02 00:00:00, dtype: int64\n",
      "            sales\n",
      "date             \n",
      "2025-10-01    200\n",
      "2025-10-02    220\n",
      "2025-10-03    250\n",
      "2025-10-04    230\n",
      "\n",
      "筛选2025年10月的数据:\n",
      "             sales\n",
      "date             \n",
      "2025-10-01    200\n",
      "2025-10-02    220\n",
      "2025-10-03    250\n",
      "2025-10-04    230\n",
      "\n",
      "筛选日期范围:\n",
      "             sales\n",
      "date             \n",
      "2025-10-01    200\n",
      "2025-10-02    220\n",
      "2025-10-03    250\n"
     ]
    }
   ],
   "source": [
    "# 使用上面的 df\n",
    "# 筛选特定某一天\n",
    "print(df.loc['2025-10-02'])\n",
    "\n",
    "# 筛选某一年\n",
    "df_2024 = df.loc['2025']\n",
    "print(df_2025)\n",
    "\n",
    "# 筛选某一月\n",
    "df_oct = df.loc['2025-10']\n",
    "print(\"\\n筛选2025年10月的数据:\\n\", df_oct)\n",
    "\n",
    "# 筛选一个日期范围（切片）\n",
    "date_range_slice = df.loc['2025-10-01':'2025-10-03']\n",
    "print(\"\\n筛选日期范围:\\n\", date_range_slice)"
   ]
  },
  {
   "cell_type": "code",
   "execution_count": 20,
   "id": "efe42f98-bd19-435f-89ab-3f34f13ff2d4",
   "metadata": {},
   "outputs": [
    {
     "name": "stdout",
     "output_type": "stream",
     "text": [
      "\n",
      "每月销售总额:\n",
      " 2025-09-30    150\n",
      "2025-10-31    400\n",
      "Freq: ME, dtype: int64\n",
      "\n",
      "每周平均销售额:\n",
      " 2025-09-28    15.0\n",
      "2025-10-05    70.0\n",
      "Freq: W-SUN, dtype: float64\n"
     ]
    }
   ],
   "source": [
    "##重采样 (Resampling)：改变时间频率\n",
    "#这是时间序列分析的核心操作之一，比如将日度数据聚合为月度数据，或将月度数据扩展为日度数据。\n",
    "\n",
    "#a) 降采样 (Downsampling)：高频 -> 低频\n",
    "idx = pd.date_range(start='2025-09-25', end='2025-10-05', freq='D')\n",
    "sales_data = pd.Series(range(len(idx)), index=idx) * 10\n",
    "\n",
    "# 'ME' 代表按月（Month End）重采样，并对每个月的数据求和\n",
    "monthly_sales = sales_data.resample('ME').sum()\n",
    "print(\"\\n每月销售总额:\\n\", monthly_sales)\n",
    "\n",
    "# 'W' 代表按周（Week End, 默认为周日）重采样，并计算每周的平均值\n",
    "weekly_avg_sales = sales_data.resample('W').mean()\n",
    "print(\"\\n每周平均销售额:\\n\", weekly_avg_sales)"
   ]
  },
  {
   "cell_type": "code",
   "execution_count": 33,
   "id": "c9eaa91f-2d2f-4e20-b993-fa50b912d025",
   "metadata": {},
   "outputs": [
    {
     "name": "stdout",
     "output_type": "stream",
     "text": [
      "\n",
      "月度数据扩展为日度数据:\n",
      " 2025-01-31    100\n",
      "2025-02-01    100\n",
      "2025-02-02    100\n",
      "2025-02-03    100\n",
      "2025-02-04    100\n",
      "2025-02-05    100\n",
      "2025-02-06    100\n",
      "2025-02-07    100\n",
      "2025-02-08    100\n",
      "2025-02-09    100\n",
      "2025-02-10    100\n",
      "2025-02-11    100\n",
      "2025-02-12    100\n",
      "2025-02-13    100\n",
      "2025-02-14    100\n",
      "2025-02-15    100\n",
      "2025-02-16    100\n",
      "2025-02-17    100\n",
      "2025-02-18    100\n",
      "2025-02-19    100\n",
      "2025-02-20    100\n",
      "2025-02-21    100\n",
      "2025-02-22    100\n",
      "2025-02-23    100\n",
      "2025-02-24    100\n",
      "2025-02-25    100\n",
      "2025-02-26    100\n",
      "2025-02-27    100\n",
      "2025-02-28    120\n",
      "Freq: D, dtype: int64\n"
     ]
    }
   ],
   "source": [
    "#b）升采样 (Upsampling)：低频 -> 高频\n",
    "#例如，将月度数据扩展为日度数据。这会产生很多缺失值（NaN），需要填充方法（如 ffill 向前填充, bfill 向后填充）。\n",
    "# 假设我们只有月度数据\n",
    "monthly_data = pd.Series([100, 120], index=pd.to_datetime(['2025-01-31', '2025-02-28']))\n",
    "\n",
    "# 'D' 代表按天重采样，并用前一个有效值填充\n",
    "daily_data = monthly_data.resample('D').ffill()\n",
    "print(\"\\n月度数据扩展为日度数据:\\n\", daily_data)"
   ]
  },
  {
   "cell_type": "code",
   "execution_count": null,
   "id": "58b3d665-8071-4899-afb2-9fd7a7795dfb",
   "metadata": {},
   "outputs": [],
   "source": [
    "#常用频率代码：D(天), W(周), M(月), Q(季), A或Y(年)。"
   ]
  },
  {
   "cell_type": "code",
   "execution_count": 34,
   "id": "fd2778f0-8589-4e9b-ab95-e30bf88c1512",
   "metadata": {},
   "outputs": [
    {
     "name": "stdout",
     "output_type": "stream",
     "text": [
      "\n",
      "提取时间特征:\n",
      "             sales  day_of_week   day_name  is_month_start\n",
      "date                                                     \n",
      "2025-10-01    200            2  Wednesday            True\n",
      "2025-10-02    220            3   Thursday           False\n",
      "2025-10-03    250            4     Friday           False\n",
      "2025-10-04    230            5   Saturday           False\n"
     ]
    }
   ],
   "source": [
    "\n",
    "## 4. 时间特征提取 (Feature Engineering)\n",
    "#从 DatetimeIndex 中可以轻松提取出年、月、日、星期几等信息，这些对于机器学习模型非常有用。这通过 .dt 访问器实现。\n",
    "# 使用之前的 df\n",
    "# 提取星期几 (Monday=0, Sunday=6)\n",
    "df['day_of_week'] = df.index.dayofweek\n",
    "\n",
    "# 提取星期名称\n",
    "df['day_name'] = df.index.day_name()\n",
    "\n",
    "# 提取是否是月份的开始\n",
    "df['is_month_start'] = df.index.is_month_start\n",
    "\n",
    "print(\"\\n提取时间特征:\\n\", df)"
   ]
  },
  {
   "cell_type": "code",
   "execution_count": 35,
   "id": "1baa7576-b3b8-4ba7-9a27-731b5b78bc19",
   "metadata": {},
   "outputs": [
    {
     "name": "stdout",
     "output_type": "stream",
     "text": [
      "\n",
      "计算3日移动平均:\n",
      "             sales  day_of_week   day_name  is_month_start  3D_rolling_avg\n",
      "date                                                                     \n",
      "2025-10-01    200            2  Wednesday            True             NaN\n",
      "2025-10-02    220            3   Thursday           False             NaN\n",
      "2025-10-03    250            4     Friday           False      223.333333\n",
      "2025-10-04    230            5   Saturday           False      233.333333\n"
     ]
    }
   ],
   "source": [
    "# 5. 窗口函数 (Window Functions)\n",
    "#用于计算移动平均、移动总和等。\n",
    "\n",
    "# a) 移动窗口 (Rolling Windows)\n",
    "# 一个固定大小的窗口，在数据上滑动，对窗口内的数据进行计算。\n",
    "\n",
    "# 计算3日移动平均销售额\n",
    "df['3D_rolling_avg'] = df['sales'].rolling(window=3).mean()\n",
    "print(\"\\n计算3日移动平均:\\n\", df)"
   ]
  },
  {
   "cell_type": "code",
   "execution_count": null,
   "id": "d0b8bc9a-e7d8-4b8a-880a-d1a30d227531",
   "metadata": {},
   "outputs": [],
   "source": [
    "#b)扩张窗口 (Expanding Windows)\n",
    "#窗口从头开始，不断扩大，包含至今为止的所有数据，用于计算累计值。\n",
    "# 计算累计销售总额\n",
    "df['cumulative_sum'] = df['sales'].expanding().sum()\n",
    "print(\"\\n计算累计总和:\\n\", df)"
   ]
  }
 ],
 "metadata": {
  "kernelspec": {
   "display_name": "Python 3 (ipykernel)",
   "language": "python",
   "name": "python3"
  },
  "language_info": {
   "codemirror_mode": {
    "name": "ipython",
    "version": 3
   },
   "file_extension": ".py",
   "mimetype": "text/x-python",
   "name": "python",
   "nbconvert_exporter": "python",
   "pygments_lexer": "ipython3",
   "version": "3.13.5"
  }
 },
 "nbformat": 4,
 "nbformat_minor": 5
}
