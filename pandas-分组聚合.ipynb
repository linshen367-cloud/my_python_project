{
 "cells": [
  {
   "cell_type": "code",
   "execution_count": 1,
   "id": "b2834928-d66d-414f-bba8-7d91a1d7f7f8",
   "metadata": {},
   "outputs": [
    {
     "name": "stdout",
     "output_type": "stream",
     "text": [
      "原始数据:\n",
      "   城市         日期  品类  销售额  数量\n",
      "0  北京 2025-10-01  水果  100  10\n",
      "1  上海 2025-10-01  蔬菜  150  15\n",
      "2  北京 2025-10-02  水果  120  12\n",
      "3  上海 2025-10-03  水果  200  20\n",
      "4  广州 2025-10-02  蔬菜   90   9\n",
      "5  北京 2025-10-03  肉类  300  25\n",
      "6  广州 2025-10-03  水果  110  11\n"
     ]
    }
   ],
   "source": [
    "##pandas-分组聚合\n",
    "# 1. 核心思想：拆分-应用-合并 (Split-Apply-Combine)\n",
    "import pandas as pd\n",
    "import numpy as np\n",
    "\n",
    "data = {\n",
    "    '城市': ['北京', '上海', '北京', '上海', '广州', '北京', '广州'],\n",
    "    '日期': pd.to_datetime(['2025-10-01', '2025-10-01', '2025-10-02', '2025-10-03', '2025-10-02', '2025-10-03', '2025-10-03']),\n",
    "    '品类': ['水果', '蔬菜', '水果', '水果', '蔬菜', '肉类', '水果'],\n",
    "    '销售额': [100, 150, 120, 200, 90, 300, 110],\n",
    "    '数量': [10, 15, 12, 20, 9, 25, 11]\n",
    "}\n",
    "df = pd.DataFrame(data)\n",
    "\n",
    "print(\"原始数据:\")\n",
    "print(df)"
   ]
  },
  {
   "cell_type": "code",
   "execution_count": 2,
   "id": "482d26c7-55ee-4180-a263-b5e4ddbfdf4d",
   "metadata": {},
   "outputs": [
    {
     "name": "stdout",
     "output_type": "stream",
     "text": [
      "\n",
      "每个城市的总销售额:\n",
      "城市\n",
      "上海    350\n",
      "北京    520\n",
      "广州    200\n",
      "Name: 销售额, dtype: int64\n"
     ]
    }
   ],
   "source": [
    "# a) 按单列分组，进行单项聚合\n",
    "# 这是最基础的用法。例如，我们想计算每个城市的总销售额。\n",
    "\n",
    "# 拆分: 按“城市”列将数据分成“北京”、“上海”、“广州”三组。\n",
    "\n",
    "# 应用: 对每组的“销售额”列计算 sum()。\n",
    "\n",
    "# 合并: 将每个城市的计算结果合并起来。\n",
    "# 按“城市”分组，然后选择“销售额”列，最后调用 sum() 函数\n",
    "city_sales = df.groupby('城市')['销售额'].sum()\n",
    "\n",
    "print(\"\\n每个城市的总销售额:\")\n",
    "print(city_sales)\n",
    "#常用聚合函数: sum(), mean(), count() (非空值数量), size() (所有行数量), max(), min(), std() (标准差), nunique() (唯一值数量) 等"
   ]
  },
  {
   "cell_type": "code",
   "execution_count": 5,
   "id": "b83de17c-28bf-45c8-8f36-399e5090a74f",
   "metadata": {},
   "outputs": [
    {
     "name": "stdout",
     "output_type": "stream",
     "text": [
      "\n",
      "每个城市、每个品类的平均销售额:\n",
      "         销售额\n",
      "城市 品类       \n",
      "上海 水果  200.0\n",
      "   蔬菜  150.0\n",
      "北京 水果  110.0\n",
      "   肉类  300.0\n",
      "广州 水果  110.0\n",
      "   蔬菜   90.0\n"
     ]
    }
   ],
   "source": [
    "# b) 按多列分组\n",
    "# 你可以传入一个列表来进行多级分组。例如，计算每个城市、每个品类的平均销售额。\n",
    "# 按“城市”和“品类”两列进行分组\n",
    "city_category_sales = df.groupby(['城市', '品类'])['销售额'].mean()\n",
    "ct = pd.DataFrame(city_category_sales)\n",
    "print(\"\\n每个城市、每个品类的平均销售额:\")\n",
    "print(ct)"
   ]
  },
  {
   "cell_type": "code",
   "execution_count": 6,
   "id": "2d5869ac-0e2c-444f-8938-eb2dbed0ffc1",
   "metadata": {},
   "outputs": [
    {
     "name": "stdout",
     "output_type": "stream",
     "text": [
      "\n",
      "对每个城市的销售额进行多种聚合:\n",
      "    sum        mean  count\n",
      "城市                        \n",
      "上海  350  175.000000      2\n",
      "北京  520  173.333333      3\n",
      "广州  200  100.000000      2\n"
     ]
    }
   ],
   "source": [
    "# c) 使用 .agg() 进行多种聚合\n",
    "# 当你需要同时进行多种聚合运算时，.agg() (aggregate) 方法是你的最佳选择。\n",
    "# 计算每个城市的销售额总和、平均值和订单数\n",
    "city_agg = df.groupby('城市')['销售额'].agg(['sum', 'mean', 'count'])\n",
    "\n",
    "print(\"\\n对每个城市的销售额进行多种聚合:\")\n",
    "print(city_agg)"
   ]
  },
  {
   "cell_type": "code",
   "execution_count": 7,
   "id": "334b9a95-3b7b-4071-962a-226cac204480",
   "metadata": {},
   "outputs": [
    {
     "name": "stdout",
     "output_type": "stream",
     "text": [
      "\n",
      "对每个品类进行复杂聚合:\n",
      "    总销售额   平均数量  销售城市数\n",
      "品类                    \n",
      "水果   530  13.25      3\n",
      "肉类   300  25.00      1\n",
      "蔬菜   240  12.00      2\n"
     ]
    }
   ],
   "source": [
    "# 2. 对不同列进行不同聚合（最常用、最强大的用法）：\n",
    "# 你可以传递一个字典给 .agg()，为不同的列指定不同的聚合函数。\n",
    "\n",
    "\n",
    "# 对每个品类：\n",
    "# - 计算销售额的总和\n",
    "# - 计算数量的平均值\n",
    "# - 计算有多少个不同的城市在销售该品类\n",
    "category_complex_agg = df.groupby('品类').agg(\n",
    "    总销售额=('销售额', 'sum'),\n",
    "    平均数量=('数量', 'mean'),\n",
    "    销售城市数=('城市', 'nunique')\n",
    ")\n",
    "\n",
    "print(\"\\n对每个品类进行复杂聚合:\")\n",
    "print(category_complex_agg)"
   ]
  },
  {
   "cell_type": "code",
   "execution_count": 8,
   "id": "a923d3cc-7a4a-46ee-9a14-f8518255f874",
   "metadata": {},
   "outputs": [
    {
     "name": "stdout",
     "output_type": "stream",
     "text": [
      "\n",
      "筛选出订单数>=3的城市:\n",
      "    城市         日期  品类  销售额  数量\n",
      "0  北京 2025-10-01  水果  100  10\n",
      "2  北京 2025-10-02  水果  120  12\n",
      "5  北京 2025-10-03  肉类  300  25\n",
      "\n",
      "计算与城市平均销售额的差值:\n",
      "    城市         日期  品类  销售额  数量   与平均销售额的差值\n",
      "0  北京 2025-10-01  水果  100  10  -73.333333\n",
      "1  上海 2025-10-01  蔬菜  150  15  -25.000000\n",
      "2  北京 2025-10-02  水果  120  12  -53.333333\n",
      "3  上海 2025-10-03  水果  200  20   25.000000\n",
      "4  广州 2025-10-02  蔬菜   90   9  -10.000000\n",
      "5  北京 2025-10-03  肉类  300  25  126.666667\n",
      "6  广州 2025-10-03  水果  110  11   10.000000\n"
     ]
    }
   ],
   "source": [
    "## 3. 其他有用的分组操作\n",
    "# groupby 对象除了聚合，还有其他强大的功能：\n",
    "# 筛选 (Filtering): .filter() 可以筛选出符合条件的分组。\n",
    "\n",
    "# 只保留订单数大于等于3的城市数据\n",
    "df_filtered = df.groupby('城市').filter(lambda group: len(group) >= 3)\n",
    "print(\"\\n筛选出订单数>=3的城市:\\n\", df_filtered)\n",
    "# 转换 (Transformation): .transform() 可以对每个分组进行计算，并将结果广播回原始 DataFrame 的形状。\n",
    "\n",
    "\n",
    "# 计算每个城市内，每笔销售额与该城市平均销售额的差值\n",
    "df['与平均销售额的差值'] = df.groupby('城市')['销售额'].transform(lambda x: x - x.mean())\n",
    "print(\"\\n计算与城市平均销售额的差值:\\n\", df)"
   ]
  },
  {
   "cell_type": "code",
   "execution_count": 10,
   "id": "67676042-c697-4131-afa4-98b978d144bc",
   "metadata": {},
   "outputs": [
    {
     "data": {
      "image/png": "[encoded data removed]",
      "text/plain": [
       "<Figure size 640x480 with 1 Axes>"
      ]
     },
     "metadata": {},
     "output_type": "display_data"
    }
   ],
   "source": [
    "import matplotlib.pyplot as plt\n",
    "\n",
    "# 1. 创建 Figure 和 Axes 对象\n",
    "fig, ax = plt.subplots()\n",
    "\n",
    "# 2. 在指定的 Axes 上绘图\n",
    "ax.plot([1, 2, 3], [1, 4, 9])\n",
    "\n",
    "# 3. 调用 Axes 的方法来定制图表\n",
    "ax.set_title(\"My First Plot\")\n",
    "ax.set_xlabel(\"X-axis\")\n",
    "ax.set_ylabel(\"Y-axis\")\n",
    "\n",
    "plt.show() # 显示图表"
   ]
  },
  {
   "cell_type": "code",
   "execution_count": null,
   "id": "a1b02a73-beab-4fa2-9b9d-1e8177c19589",
   "metadata": {},
   "outputs": [],
   "source": []
  }
 ],
 "metadata": {
  "kernelspec": {
   "display_name": "Python 3 (ipykernel)",
   "language": "python",
   "name": "python3"
  },
  "language_info": {
   "codemirror_mode": {
    "name": "ipython",
    "version": 3
   },
   "file_extension": ".py",
   "mimetype": "text/x-python",
   "name": "python",
   "nbconvert_exporter": "python",
   "pygments_lexer": "ipython3",
   "version": "3.13.5"
  }
 },
 "nbformat": 4,
 "nbformat_minor": 5
}
